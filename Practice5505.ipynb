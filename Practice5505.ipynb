{
  "nbformat": 4,
  "nbformat_minor": 0,
  "metadata": {
    "colab": {
      "name": "Practice5505.ipynb",
      "provenance": [],
      "authorship_tag": "ABX9TyNeBUT6GrVjnUQalTeMViKJ",
      "include_colab_link": true
    },
    "kernelspec": {
      "name": "python3",
      "display_name": "Python 3"
    }
  },
  "cells": [
    {
      "cell_type": "markdown",
      "metadata": {
        "id": "view-in-github",
        "colab_type": "text"
      },
      "source": [
        "<a href=\"https://colab.research.google.com/github/nht0017/Practice/blob/main/Practice5505.ipynb\" target=\"_parent\"><img src=\"https://colab.research.google.com/assets/colab-badge.svg\" alt=\"Open In Colab\"/></a>"
      ]
    },
    {
      "cell_type": "markdown",
      "metadata": {
        "id": "Iqpt2LB2fDZf"
      },
      "source": [
        "-$x + 3 = y$\r\n",
        "\r\n",
        "$\\sqrt{(x+2)} - 5$\r\n"
      ]
    },
    {
      "cell_type": "code",
      "metadata": {
        "id": "xa-gfsmQfJRA"
      },
      "source": [
        ""
      ],
      "execution_count": null,
      "outputs": []
    }
  ]
}